{
 "cells": [
  {
   "cell_type": "code",
   "execution_count": 12,
   "metadata": {},
   "outputs": [],
   "source": [
    "import mysql.connector\n",
    "import sys\n",
    "import json\n"
   ]
  },
  {
   "cell_type": "code",
   "execution_count": 2,
   "metadata": {},
   "outputs": [
    {
     "name": "stdout",
     "output_type": "stream",
     "text": [
      "Connected to MySQL successfully!\n"
     ]
    }
   ],
   "source": [
    "# Connect to MySQL\n",
    "conn = mysql.connector.connect(\n",
    "    host=\"localhost\",\n",
    "    user=\"joy\",\n",
    "    password=\"NewChange@2025\",\n",
    "    database=\"my_database\"  # Use your existing database\n",
    ")\n",
    "\n",
    "# Create a cursor\n",
    "cursor = conn.cursor()\n",
    "print(\"Connected to MySQL successfully!\")"
   ]
  },
  {
   "cell_type": "code",
   "execution_count": 3,
   "metadata": {},
   "outputs": [
    {
     "name": "stdout",
     "output_type": "stream",
     "text": [
      "Table 'contact_messages' created successfully!\n"
     ]
    }
   ],
   "source": [
    "# SQL query to create a table\n",
    "create_table_query = \"\"\"\n",
    "CREATE TABLE IF NOT EXISTS contact_messages (\n",
    "    id INT AUTO_INCREMENT PRIMARY KEY,\n",
    "    name VARCHAR(255) NOT NULL,\n",
    "    email VARCHAR(255) NOT NULL,\n",
    "    message TEXT NOT NULL,\n",
    "    created_at TIMESTAMP DEFAULT CURRENT_TIMESTAMP\n",
    ");\n",
    "\"\"\"\n",
    "\n",
    "# Execute the query\n",
    "cursor.execute(create_table_query)\n",
    "conn.commit()\n",
    "print(\"Table 'contact_messages' created successfully!\")\n"
   ]
  },
  {
   "cell_type": "code",
   "execution_count": 17,
   "metadata": {},
   "outputs": [],
   "source": [
    "def save_message(name, email, message):\n",
    "    \"\"\"\n",
    "    Inserts a new message into the contact_messages table.\n",
    "    \"\"\"\n",
    "    sql = \"INSERT INTO contact_messages (name, email, message) VALUES (%s, %s, %s)\"\n",
    "    values = (name, email, message)\n",
    "    \n",
    "    try:\n",
    "        cursor.execute(sql, values)  # Execute the SQL query\n",
    "        conn.commit()  # Save the changes to the database\n",
    "        print(f\"✅ Message from {name} received. I'll get back to you shortly!\")\n",
    "    except mysql.connector.Error as err:\n",
    "        print(f\"❌ Error: {err}\")\n"
   ]
  },
  {
   "cell_type": "code",
   "execution_count": 18,
   "metadata": {},
   "outputs": [
    {
     "name": "stdout",
     "output_type": "stream",
     "text": [
      "✅ Message from Joy Wamaitha received. I'll get back to you shortly!\n",
      "✅ Message from John Doe received. I'll get back to you shortly!\n"
     ]
    }
   ],
   "source": [
    "save_message(\"Joy Wamaitha\", \"joy@example.com\", \"This is my first contact message.\")\n",
    "save_message(\"John Doe\", \"john@example.com\", \"Hello! I have a question about your work.\")"
   ]
  },
  {
   "cell_type": "code",
   "execution_count": 21,
   "metadata": {},
   "outputs": [
    {
     "name": "stdout",
     "output_type": "stream",
     "text": [
      "(1, 'Joy Wamaitha', 'joy@example.com', 'This is my first contact message.', datetime.datetime(2025, 2, 22, 22, 47, 49))\n",
      "(2, 'John Doe', 'john@example.com', 'Hello! I have a question about your work.', datetime.datetime(2025, 2, 22, 22, 47, 49))\n",
      "(3, 'Joy Wamaitha', 'joy@example.com', 'This is my first contact message.', datetime.datetime(2025, 2, 22, 22, 55, 53))\n",
      "(4, 'John Doe', 'john@example.com', 'Hello! I have a question about your work.', datetime.datetime(2025, 2, 22, 22, 55, 53))\n",
      "(5, 'Joy Wamaitha', 'joy@example.com', 'This is my first contact message.', datetime.datetime(2025, 2, 22, 23, 56, 40))\n",
      "(6, 'John Doe', 'john@example.com', 'Hello! I have a question about your work.', datetime.datetime(2025, 2, 22, 23, 56, 40))\n"
     ]
    }
   ],
   "source": [
    "# Retrieve messages from the database\n",
    "cursor.execute(\"SELECT * FROM contact_messages\")\n",
    "messages = cursor.fetchall()\n",
    "\n",
    "# Display messages\n",
    "for message in messages:\n",
    "    print(message)"
   ]
  }
 ],
 "metadata": {
  "kernelspec": {
   "display_name": "Python 3",
   "language": "python",
   "name": "python3"
  },
  "language_info": {
   "codemirror_mode": {
    "name": "ipython",
    "version": 3
   },
   "file_extension": ".py",
   "mimetype": "text/x-python",
   "name": "python",
   "nbconvert_exporter": "python",
   "pygments_lexer": "ipython3",
   "version": "3.9.7"
  }
 },
 "nbformat": 4,
 "nbformat_minor": 2
}
